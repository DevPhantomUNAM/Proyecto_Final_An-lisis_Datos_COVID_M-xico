{
 "cells": [
  {
   "cell_type": "markdown",
   "metadata": {},
   "source": [
    "# Proyecto_Fina_Análisis_Datos_COVID_México"
   ]
  },
  {
   "cell_type": "markdown",
   "metadata": {},
   "source": [
    "## Proyecto Final\n",
    "\n",
    "Programar un sistema indicador de color de semáforo COVID.\n",
    "\n",
    "* Tener una bd.csv con edad, indicador[0-1]\n",
    "\n",
    "* Si el indicador es menor que 0.8 no tiene COVID\n",
    "\n",
    "* Si el indicador es mayor o igual a 0.8 tiene COVID \n",
    "* La muestra será de 100 individuos\n",
    "\n",
    "* Calcular el color del semáforo COVID en torno a:\n",
    "\n",
    "    * Verde: 0 individuos con COVID\n",
    "\n",
    "    * Amarillo: 1-30 individuos con COVID\n",
    "\n",
    "    * Naranja: 31-70 individuos con COVID\n",
    "\n",
    "    * Rojo: 71-100 individuos con COVID\n",
    "\n",
    "* Calcular la edad promedio de las personas con COVID"
   ]
  },
  {
   "cell_type": "code",
   "execution_count": null,
   "metadata": {},
   "outputs": [],
   "source": []
  }
 ],
 "metadata": {
  "kernelspec": {
   "display_name": "Python 3",
   "language": "python",
   "name": "python3"
  },
  "language_info": {
   "codemirror_mode": {
    "name": "ipython",
    "version": 3
   },
   "file_extension": ".py",
   "mimetype": "text/x-python",
   "name": "python",
   "nbconvert_exporter": "python",
   "pygments_lexer": "ipython3",
   "version": "3.7.4"
  }
 },
 "nbformat": 4,
 "nbformat_minor": 2
}
